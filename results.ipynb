{
 "cells": [
  {
   "cell_type": "markdown",
   "metadata": {},
   "source": [
    "# ECE-143-Wildfire-Project\n",
    "\n",
    "The Group Repository containing everyone's code.\n",
    "\n",
    "**Team Members:** \n",
    "\n",
    "David Belman, Aiden Rosen, Mahesh  \n",
    "Ananthakrishnan Rameshkumar, Boran Jia, & Jacob Brown  \n",
    "\n",
    "\n",
    "## Objective: \n",
    "\n",
    "The Purpose of this project is to Perform comprehensive analysis on forest fires, analyzing cause, size of fire, seasonal effects, spatial effects and terrain effects.  "
   ]
  },
  {
   "cell_type": "markdown",
   "metadata": {},
   "source": [
    "## Data Extraction and Cleaning\n",
    "\n",
    "This code uses our functions defined in DataExtractionCleaning.py to put our data into a Pandas Dataframe and has functions designed to filter data."
   ]
  },
  {
   "cell_type": "code",
   "execution_count": 1,
   "metadata": {},
   "outputs": [],
   "source": [
    "#necessary imports\n",
    "from Data_Extracting_and_Cleaning import DataExtractionCleaning as DEC\n",
    "#from Data_Extracting_and_Cleaning.Utils import Directory_utils as Dir\n"
   ]
  },
  {
   "cell_type": "code",
   "execution_count": 2,
   "metadata": {},
   "outputs": [],
   "source": [
    "#load the Dataset\n",
    "df = DEC.Get_all_data(\"af-historic-wildfires-1996-2005-data.csv\")"
   ]
  },
  {
   "cell_type": "markdown",
   "metadata": {},
   "source": [
    "## Analysis and Visualization"
   ]
  },
  {
   "cell_type": "code",
   "execution_count": null,
   "metadata": {},
   "outputs": [],
   "source": []
  },
  {
   "cell_type": "markdown",
   "metadata": {},
   "source": [
    "## Predictions"
   ]
  },
  {
   "cell_type": "code",
   "execution_count": null,
   "metadata": {},
   "outputs": [],
   "source": []
  }
 ],
 "metadata": {
  "kernelspec": {
   "display_name": "Python 3",
   "language": "python",
   "name": "python3"
  },
  "language_info": {
   "codemirror_mode": {
    "name": "ipython",
    "version": 3
   },
   "file_extension": ".py",
   "mimetype": "text/x-python",
   "name": "python",
   "nbconvert_exporter": "python",
   "pygments_lexer": "ipython3",
   "version": "3.10.8"
  }
 },
 "nbformat": 4,
 "nbformat_minor": 2
}
